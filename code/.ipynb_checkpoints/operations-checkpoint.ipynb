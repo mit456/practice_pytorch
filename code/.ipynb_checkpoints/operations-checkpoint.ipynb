{
 "cells": [
  {
   "cell_type": "code",
   "execution_count": 5,
   "metadata": {},
   "outputs": [],
   "source": [
    "import torch\n",
    "import numpy as np\n",
    "\n"
   ]
  },
  {
   "cell_type": "code",
   "execution_count": 18,
   "metadata": {},
   "outputs": [
    {
     "name": "stdout",
     "output_type": "stream",
     "text": [
      "**** 2 1\n",
      " 3 1 2 2.0\n",
      "** (3, 3)\n",
      "**** Add [[ 1.0392742  -0.60168199  0.18195878]\n",
      " [ 1.76499213 -2.14743362 -1.95905479]\n",
      " [ 1.01692529 -0.24539639 -0.15522705]]\n",
      "***** Subtract [[-0.04584589  0.32515339  1.11341829]\n",
      " [ 1.28106758  1.67912687  1.49078088]\n",
      " [ 2.14150034  1.78026585 -0.78372172]]\n",
      "***** Multiply [[ 0.26949725  0.06407412 -0.30164782]\n",
      " [ 0.36851576  0.44800103  0.40386701]\n",
      " [-0.88797167 -0.77728178 -0.14753107]]\n",
      "***** Divide [[ 0.9155008   0.29835784 -1.39069607]\n",
      " [ 6.29449313  0.12238321  0.13573803]\n",
      " [-2.80855031 -0.75771243 -1.49396459]]\n"
     ]
    }
   ],
   "source": [
    "# NUMPY EXAMPLES\n",
    "c = np.array(2)\n",
    "d = np.array(1)\n",
    "\n",
    "print(\"****\", c, d)\n",
    "print(\"\", c + d, c - d, c * d, c / d)\n",
    "\n",
    "\n",
    "\n",
    "\n",
    "# MATRIX EXAMPLES\n",
    "z = np.zeros((3, 3))\n",
    "\n",
    "print(\"**\", z.shape)\n",
    "\n",
    "# RANDOM SEED USED TO AVOID SAME NUMBER GENERATING AGAIN AND AGAIN\n",
    "np.random.seed(42)\n",
    "\n",
    "r1_mat = np.random.randn(3, 3)\n",
    "r2_mat = np.random.randn(3, 3)\n",
    "\n",
    "print(\"**** Add\", np.add(r1_mat, r2_mat))\n",
    "print(\"***** Subtract\", np.subtract(r1_mat, r2_mat))\n",
    "print(\"***** Multiply\", np.multiply(r1_mat, r2_mat))\n",
    "print(\"***** Divide\", np.divide(r1_mat, r2_mat))\n",
    "\n"
   ]
  },
  {
   "cell_type": "code",
   "execution_count": 17,
   "metadata": {},
   "outputs": [
    {
     "name": "stdout",
     "output_type": "stream",
     "text": [
      " tensor(3) tensor(-1) tensor(2) tensor(0)\n",
      "Addition tensor([[ 0.6040,  0.6637,  1.0438],\n",
      "        [ 1.3406, -2.8127, -1.1753],\n",
      "        [ 3.1662,  0.6841,  1.2788]])\n",
      "Sub tensor([[ 0.0693, -0.4061, -0.5749],\n",
      "        [-0.8800,  0.5669,  0.8026],\n",
      "        [ 1.2502, -1.9601, -0.3555]])\n",
      "Multiply tensor([[ 0.4576,  0.2724,  0.3367],\n",
      "        [-1.3636,  1.7743,  1.1446],\n",
      "        [ 0.3243,  2.8696,  2.7954]])\n",
      "Divide tensor([[ 1.2594,  0.2408,  0.2897],\n",
      "        [ 0.2075,  0.6645,  0.1884],\n",
      "        [ 2.3051, -0.4826,  0.5649]])\n"
     ]
    }
   ],
   "source": [
    "# THIS IS SIMILAR TO NUMPY, i.e TORCH\n",
    "a = torch.tensor(2)\n",
    "b = torch.tensor(1)\n",
    "\n",
    "print(\"\", a + b, b - a, a*b, b/a)\n",
    "\n",
    "# MATRIX OPERATIONS\n",
    "torch.manual_seed(42)\n",
    "\n",
    "r1_mat = torch.randn(3, 3)\n",
    "r2_mat = torch.randn(3, 3)\n",
    "\n",
    "\n",
    "# OPERATIONS\n",
    "print(\"Addition\", torch.add(r1_mat, r2_mat))\n",
    "print(\"Sub\", torch.sub(r1_mat, r2_mat))\n",
    "print(\"Multiply\", torch.mm(r1_mat, r2_mat))\n",
    "print(\"Divide\", torch.div(r1_mat, r2_mat))"
   ]
  },
  {
   "cell_type": "code",
   "execution_count": 31,
   "metadata": {},
   "outputs": [
    {
     "name": "stdout",
     "output_type": "stream",
     "text": [
      "tensor([[1, 2],\n",
      "        [3, 4]]) \n",
      " tensor([[5, 6],\n",
      "        [7, 8]]) \n",
      " tensor([[1, 2, 5, 6],\n",
      "        [3, 4, 7, 8]])\n",
      "**** tensor([[1, 2, 5, 6, 3, 4, 7, 8]])\n"
     ]
    }
   ],
   "source": [
    "# MIX OPERATION\n",
    "\n",
    "\n",
    "mat1 = torch.tensor([[1, 2], [3, 4]])\n",
    "mat2 = torch.tensor([[5, 6], [7, 8]])\n",
    "\n",
    "# CONCATENATION OF MATRICES\n",
    "# IF DIM=1, THEN IT CONCATENATE IN HORIZONTALLY ELSE VERTICALLY\n",
    "c_mat = torch.cat((mat1, mat2), dim=1)\n",
    "\n",
    "print(mat1, \"\\n\", mat2, \"\\n\", c_mat)\n",
    "\n",
    "\n",
    "# RESHAPE C_MAT\n",
    "re_mat = torch.reshape(c_mat, (1, 8))\n",
    "# ALTERNATE WAY TO RESHAPE\n",
    "re_mat = c_mat.reshape(1, 8)\n",
    "print(\"****\", re_mat)\n",
    "\n"
   ]
  },
  {
   "cell_type": "code",
   "execution_count": 35,
   "metadata": {},
   "outputs": [
    {
     "name": "stdout",
     "output_type": "stream",
     "text": [
      "**** tensor([[6., 6.],\n",
      "        [6., 6.]], grad_fn=<AddBackward0>) tensor(6., grad_fn=<MeanBackward0>)\n",
      "tensor([[0.2500, 0.2500],\n",
      "        [0.2500, 0.2500]])\n",
      "\n"
     ]
    }
   ],
   "source": [
    "# GREDIENT DESCENT\n",
    "a = torch.ones((2, 2), requires_grad=True)\n",
    "\n",
    "# OPERATIONS ON TENSOR\n",
    "b = a + 5\n",
    "c = b.mean()\n",
    "\n",
    "print(\"****\", b, c)\n",
    "c.backward()\n",
    "print(a.grad)"
   ]
  },
  {
   "cell_type": "code",
   "execution_count": null,
   "metadata": {},
   "outputs": [],
   "source": []
  }
 ],
 "metadata": {
  "kernelspec": {
   "display_name": "Python 3",
   "language": "python",
   "name": "python3"
  },
  "language_info": {
   "codemirror_mode": {
    "name": "ipython",
    "version": 3
   },
   "file_extension": ".py",
   "mimetype": "text/x-python",
   "name": "python",
   "nbconvert_exporter": "python",
   "pygments_lexer": "ipython3",
   "version": "3.7.6"
  }
 },
 "nbformat": 4,
 "nbformat_minor": 4
}
